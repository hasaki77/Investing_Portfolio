{
 "cells": [
  {
   "cell_type": "markdown",
   "metadata": {},
   "source": [
    "### IMPORT LIBRARIES"
   ]
  },
  {
   "cell_type": "code",
   "execution_count": 4,
   "metadata": {},
   "outputs": [],
   "source": [
    "import random\n",
    "from random import randint\n",
    "import pandas as pd\n",
    "import numpy as np\n",
    "import matplotlib.pyplot as plt\n",
    "import networkx as nx\n",
    "import seaborn as sns\n",
    "import itertools\n",
    "import yfinance as yf\n",
    "import QUBO_module"
   ]
  },
  {
   "cell_type": "code",
   "execution_count": 13,
   "metadata": {},
   "outputs": [
    {
     "data": {
      "text/plain": [
       "True"
      ]
     },
     "execution_count": 13,
     "metadata": {},
     "output_type": "execute_result"
    }
   ],
   "source": [
    "import torch\n",
    "torch.cuda.is_available()"
   ]
  },
  {
   "cell_type": "markdown",
   "metadata": {},
   "source": [
    "---\n",
    "## MAX - CUT PROBLEM"
   ]
  },
  {
   "cell_type": "markdown",
   "metadata": {},
   "source": [
    "### Make simulation of edges"
   ]
  },
  {
   "cell_type": "code",
   "execution_count": 77,
   "metadata": {},
   "outputs": [],
   "source": [
    "def make_edges(size_matrix):\n",
    "    edges = [[randint(0, 1) if i != j else 0 for j in range(size_matrix)] for i in range(size_matrix)]\n",
    "    for i in range(size_matrix):\n",
    "        edges[i][i] = -sum(edges[i])\n",
    "        for j in range(i, size_matrix):\n",
    "            edges[j][i] = edges[i][j]\n",
    "    print(*edges, sep=\"\\n\")\n",
    "    return np.array(edges)"
   ]
  },
  {
   "cell_type": "code",
   "execution_count": 90,
   "metadata": {},
   "outputs": [
    {
     "name": "stdout",
     "output_type": "stream",
     "text": [
      "[-3, 1, 0, 1, 1]\n",
      "[1, -3, 0, 1, 1]\n",
      "[0, 0, -1, 0, 1]\n",
      "[1, 1, 0, -2, 0]\n",
      "[1, 1, 1, 0, -3]\n"
     ]
    }
   ],
   "source": [
    "size_matrix = 5\n",
    "edges = make_edges(size_matrix)"
   ]
  },
  {
   "cell_type": "markdown",
   "metadata": {},
   "source": [
    "### Visualization of Graphs"
   ]
  },
  {
   "cell_type": "code",
   "execution_count": 91,
   "metadata": {},
   "outputs": [
    {
     "name": "stdout",
     "output_type": "stream",
     "text": [
      "[-3  1  0  1  1]\n",
      "[ 1 -3  0  1  1]\n",
      "[ 0  0 -1  0  1]\n",
      "[ 1  1  0 -2  0]\n",
      "[ 1  1  1  0 -3]\n"
     ]
    },
    {
     "data": {
      "image/png": "[encoded data removed]",
      "text/plain": [
       "<Figure size 640x480 with 1 Axes>"
      ]
     },
     "metadata": {},
     "output_type": "display_data"
    }
   ],
   "source": [
    "G = nx.Graph()  # создаём объект графа\n",
    "\n",
    "# определяем список узлов (ID узлов)\n",
    "nodes1 = np.arange(0, size_matrix, 1)\n",
    "print(*edges, sep=\"\\n\")\n",
    "\n",
    "# определяем список рёбер\n",
    "# список кортежей, каждый из которых представляет ребро\n",
    "# кортеж (id_1, id_2) означает, что узлы id_1 и id_2 соединены ребром\n",
    "edges1 = []\n",
    "for i in range(size_matrix):\n",
    "    for j in range(i, size_matrix):\n",
    "        if edges[i][j] == 1:\n",
    "            edges1.append([i, j])\n",
    "\n",
    "# добавляем информацию в объект графа\n",
    "G.add_nodes_from(nodes1)\n",
    "G.add_edges_from(edges1)\n",
    "\n",
    "# рисуем граф и отображаем его\n",
    "nx.draw(G, with_labels=True, font_weight='bold')\n",
    "plt.show()"
   ]
  },
  {
   "cell_type": "markdown",
   "metadata": {},
   "source": [
    "### MAX-CUT SOLUTION"
   ]
  },
  {
   "cell_type": "code",
   "execution_count": 92,
   "metadata": {},
   "outputs": [],
   "source": [
    "def max_cut_solution(edges):\n",
    "    b = 0\n",
    "    for x1 in (0, 1):\n",
    "        for x2 in (0, 1):\n",
    "            for x3 in (0, 1):\n",
    "                for x4 in (0, 1):\n",
    "                    for x5 in (0, 1):\n",
    "                        x_vector = np.array([[x1, x2, x3, x4, x5]])\n",
    "                        x_vector_tran = np.transpose(x_vector)\n",
    "                        y = np.dot(np.dot(x_vector, edges), x_vector_tran)\n",
    "                        if y[0][0] < b:\n",
    "                            b = y[0][0]\n",
    "                            solution = x_vector\n",
    "    return solution"
   ]
  },
  {
   "cell_type": "code",
   "execution_count": 93,
   "metadata": {},
   "outputs": [
    {
     "data": {
      "text/plain": [
       "array([[0, 0, 0, 1, 1]])"
      ]
     },
     "execution_count": 93,
     "metadata": {},
     "output_type": "execute_result"
    }
   ],
   "source": [
    "max_cut_solution(edges)"
   ]
  },
  {
   "cell_type": "markdown",
   "metadata": {},
   "source": [
    "### SIMCIM SOLUTION"
   ]
  },
  {
   "cell_type": "code",
   "execution_count": 95,
   "metadata": {},
   "outputs": [
    {
     "data": {
      "text/plain": [
       "[0, 0, 0, 1, 1]"
      ]
     },
     "execution_count": 95,
     "metadata": {},
     "output_type": "execute_result"
    }
   ],
   "source": [
    "simcim_max_cut_solution = QUBO_module.QUBO_optimizer()\n",
    "simcim_max_cut_solution.optimize(edges)"
   ]
  },
  {
   "cell_type": "markdown",
   "metadata": {},
   "source": [
    "***"
   ]
  },
  {
   "cell_type": "markdown",
   "metadata": {},
   "source": [
    "## SUM OF SUBSET EQUALS ZERO"
   ]
  },
  {
   "cell_type": "markdown",
   "metadata": {},
   "source": [
    "### Make simulation of subsets"
   ]
  },
  {
   "cell_type": "code",
   "execution_count": 98,
   "metadata": {},
   "outputs": [],
   "source": [
    "def make_subsets(size_set):\n",
    "    # CALCULATION OF S * ST\n",
    "    myset1 = np.array([[randint(-10, 10) for i in range(size_set)],])\n",
    "    myset2 = np.transpose(myset1)\n",
    "\n",
    "    matrix =  np.dot(myset2, myset1) # необязательно добавлять (-np.diag(myset1[0] ** 2))\n",
    "    print(myset1)\n",
    "    print(matrix)\n",
    "    return myset1, matrix"
   ]
  },
  {
   "cell_type": "code",
   "execution_count": 99,
   "metadata": {},
   "outputs": [
    {
     "name": "stdout",
     "output_type": "stream",
     "text": [
      "[[10 -8  5  8  9 -4 -4  1 -7 -2 10 -4  0 -6  9]]\n",
      "[[100 -80  50  80  90 -40 -40  10 -70 -20 100 -40   0 -60  90]\n",
      " [-80  64 -40 -64 -72  32  32  -8  56  16 -80  32   0  48 -72]\n",
      " [ 50 -40  25  40  45 -20 -20   5 -35 -10  50 -20   0 -30  45]\n",
      " [ 80 -64  40  64  72 -32 -32   8 -56 -16  80 -32   0 -48  72]\n",
      " [ 90 -72  45  72  81 -36 -36   9 -63 -18  90 -36   0 -54  81]\n",
      " [-40  32 -20 -32 -36  16  16  -4  28   8 -40  16   0  24 -36]\n",
      " [-40  32 -20 -32 -36  16  16  -4  28   8 -40  16   0  24 -36]\n",
      " [ 10  -8   5   8   9  -4  -4   1  -7  -2  10  -4   0  -6   9]\n",
      " [-70  56 -35 -56 -63  28  28  -7  49  14 -70  28   0  42 -63]\n",
      " [-20  16 -10 -16 -18   8   8  -2  14   4 -20   8   0  12 -18]\n",
      " [100 -80  50  80  90 -40 -40  10 -70 -20 100 -40   0 -60  90]\n",
      " [-40  32 -20 -32 -36  16  16  -4  28   8 -40  16   0  24 -36]\n",
      " [  0   0   0   0   0   0   0   0   0   0   0   0   0   0   0]\n",
      " [-60  48 -30 -48 -54  24  24  -6  42  12 -60  24   0  36 -54]\n",
      " [ 90 -72  45  72  81 -36 -36   9 -63 -18  90 -36   0 -54  81]]\n"
     ]
    }
   ],
   "source": [
    "size_set = 15\n",
    "myset1, subset_QUBO_matrix = make_subsets(size_set)"
   ]
  },
  {
   "cell_type": "markdown",
   "metadata": {},
   "source": [
    "### SUM_OF_SUBSET SOLUTION"
   ]
  },
  {
   "cell_type": "code",
   "execution_count": 100,
   "metadata": {},
   "outputs": [
    {
     "name": "stdout",
     "output_type": "stream",
     "text": [
      "[[10 -8  5  8  9 -4 -4  1 -7 -2 10 -4  0 -6  9]]\n",
      "[1 1 1 1 1 1 1 1 1 0 0 1 1 1 0]\n"
     ]
    }
   ],
   "source": [
    "def solution(QUBO_matrix):\n",
    "    x_vectors = np.array(list(itertools.product([0, 1], repeat = QUBO_matrix.shape[0])))\n",
    "    b = 10 ** 6\n",
    "    for x_vector in x_vectors:\n",
    "        y = np.dot(np.dot(x_vector, QUBO_matrix), x_vector.T)\n",
    "        if y <= b:\n",
    "            b = y\n",
    "            solution1 = x_vector\n",
    "    return solution1\n",
    "\n",
    "print(myset1)\n",
    "print(solution(subset_QUBO_matrix))"
   ]
  },
  {
   "cell_type": "markdown",
   "metadata": {},
   "source": [
    "### SIMCIM SOLUTION"
   ]
  },
  {
   "cell_type": "code",
   "execution_count": 101,
   "metadata": {},
   "outputs": [
    {
     "name": "stderr",
     "output_type": "stream",
     "text": [
      "c:\\Users\\79179\\Desktop\\шк\\Skoltech\\Industrial Immersion\\Practice_codes\\QUBO_module.py:27: UserWarning: To copy construct from a tensor, it is recommended to use sourceTensor.clone().detach() or sourceTensor.clone().detach().requires_grad_(True), rather than torch.tensor(sourceTensor).\n",
      "  self.J = torch.tensor(J, dtype=self.dtypef, device=self.device) / self.norm\n",
      "c:\\Users\\79179\\Desktop\\шк\\Skoltech\\Industrial Immersion\\Practice_codes\\QUBO_module.py:33: UserWarning: To copy construct from a tensor, it is recommended to use sourceTensor.clone().detach() or sourceTensor.clone().detach().requires_grad_(True), rather than torch.tensor(sourceTensor).\n",
      "  self.b = torch.tensor(b, dtype=self.dtypef, device=self.device) / self.norm\n"
     ]
    },
    {
     "data": {
      "text/plain": [
       "[0, 1, 1, 1, 1, 1, 1, 1, 1, 0, 0, 1, 1, 1, 1]"
      ]
     },
     "execution_count": 101,
     "metadata": {},
     "output_type": "execute_result"
    }
   ],
   "source": [
    "Subset_problem = QUBO_module.QUBO_optimizer()\n",
    "Subset_problem.optimize(subset_QUBO_matrix)"
   ]
  },
  {
   "cell_type": "markdown",
   "metadata": {},
   "source": [
    "***"
   ]
  },
  {
   "cell_type": "markdown",
   "metadata": {},
   "source": [
    "## MINIMUM VERTEX COVER (MVC) PROBLEM"
   ]
  },
  {
   "cell_type": "markdown",
   "metadata": {},
   "source": [
    "### Make simulation of edges"
   ]
  },
  {
   "cell_type": "code",
   "execution_count": 122,
   "metadata": {},
   "outputs": [],
   "source": [
    "def make_edges_MVC(size_matrix, P):\n",
    "    edges_MVC = [[P * randint(0, 1) if i != j else 0 for j in range(size_matrix)] for i in range(size_matrix)]\n",
    "    for i in range(size_matrix):\n",
    "        edges_MVC[i][i] = 1 - 2 * sum(edges_MVC[i])\n",
    "        for j in range(i, size_matrix):\n",
    "            edges_MVC[j][i] = edges_MVC[i][j]\n",
    "    print(*edges_MVC, sep=\"\\n\")\n",
    "    return np.array(edges_MVC)"
   ]
  },
  {
   "cell_type": "code",
   "execution_count": 123,
   "metadata": {},
   "outputs": [
    {
     "name": "stdout",
     "output_type": "stream",
     "text": [
      "[-19, 0, 5, 5, 0]\n",
      "[0, -19, 5, 0, 5]\n",
      "[5, 5, -29, 0, 5]\n",
      "[5, 0, 0, -9, 0]\n",
      "[0, 5, 5, 0, -19]\n"
     ]
    }
   ],
   "source": [
    "size_matrix = 5\n",
    "P = 5\n",
    "edges_MVC = make_edges_MVC(size_matrix, P)"
   ]
  },
  {
   "cell_type": "markdown",
   "metadata": {},
   "source": [
    "### Visualization of Graphs"
   ]
  },
  {
   "cell_type": "code",
   "execution_count": 124,
   "metadata": {},
   "outputs": [
    {
     "data": {
      "image/png": "[encoded data removed]",
      "text/plain": [
       "<Figure size 640x480 with 1 Axes>"
      ]
     },
     "metadata": {},
     "output_type": "display_data"
    }
   ],
   "source": [
    "G = nx.Graph()  # создаём объект графа\n",
    "\n",
    "# определяем список узлов (ID узлов)\n",
    "nodes1 = np.arange(0, size_matrix, 1)\n",
    "\n",
    "# определяем список рёбер\n",
    "# список кортежей, каждый из которых представляет ребро\n",
    "# кортеж (id_1, id_2) означает, что узлы id_1 и id_2 соединены ребром\n",
    "edges1 = []\n",
    "for i in range(size_matrix):\n",
    "    for j in range(i, size_matrix):\n",
    "        if  i != j and edges_MVC[i][j] == P:\n",
    "            edges1.append([i, j])\n",
    "\n",
    "# добавляем информацию в объект графа\n",
    "G.add_nodes_from(nodes1)\n",
    "G.add_edges_from(edges1)\n",
    "\n",
    "# рисуем граф и отображаем его\n",
    "nx.draw(G, with_labels=True, font_weight='bold')\n",
    "plt.show()"
   ]
  },
  {
   "cell_type": "markdown",
   "metadata": {},
   "source": [
    "### MVC Solution"
   ]
  },
  {
   "cell_type": "code",
   "execution_count": 125,
   "metadata": {},
   "outputs": [
    {
     "name": "stdout",
     "output_type": "stream",
     "text": [
      "[1 1 1 0 0]\n"
     ]
    }
   ],
   "source": [
    "def solution(QUBO_matrix, P):\n",
    "    x_vectors = np.array(list(itertools.product([0, 1], repeat = np.array(QUBO_matrix).shape[0])))\n",
    "    b = 10 ** 6\n",
    "    for x_vector in x_vectors:\n",
    "        y = (np.array(QUBO_matrix).shape[0] + 1)*2*P + np.dot(np.dot(x_vector, QUBO_matrix), x_vector.T)\n",
    "        if y <= b:\n",
    "            b = y\n",
    "            solution1 = x_vector\n",
    "        #print(y)\n",
    "    return solution1\n",
    "print(solution(edges_MVC, P))"
   ]
  },
  {
   "cell_type": "markdown",
   "metadata": {},
   "source": [
    "### SIMCIM Solution"
   ]
  },
  {
   "cell_type": "code",
   "execution_count": 129,
   "metadata": {},
   "outputs": [
    {
     "data": {
      "text/plain": [
       "[1, 0, 1, 0, 1]"
      ]
     },
     "execution_count": 129,
     "metadata": {},
     "output_type": "execute_result"
    }
   ],
   "source": [
    "MVC_problem = QUBO_module.QUBO_optimizer()\n",
    "MVC_problem.optimize(edges_MVC)"
   ]
  },
  {
   "cell_type": "markdown",
   "metadata": {},
   "source": [
    "***"
   ]
  },
  {
   "cell_type": "markdown",
   "metadata": {},
   "source": [
    "## GRAPH COLORING"
   ]
  },
  {
   "cell_type": "code",
   "execution_count": 6,
   "metadata": {},
   "outputs": [],
   "source": [
    "def make_edges_GC(size_matrix, nodes, num_colors, P, P_nodes, P_colors):\n",
    "    # ADJACENCY MATRIX\n",
    "    edges_GC = [[randint(0, 1) if i != j else 0 for j in range(nodes)] for i in range(nodes)]\n",
    "    for i in range(nodes):\n",
    "        edges_GC[i][i] = 1\n",
    "        for j in range(i, nodes):\n",
    "            edges_GC[j][i] = edges_GC[i][j]\n",
    "    print(*edges_GC, sep='\\n')\n",
    "\n",
    "    # DIAGONAL MATRIX\n",
    "    edges_GC_diag = []\n",
    "    edges_GC_diag = np.diag(np.diag(edges_GC))\n",
    "\n",
    "    # OFF-DIAGONAL MATRIX\n",
    "    edges_GC_offdiag = []\n",
    "    edges_GC_offdiag = np.array(edges_GC) - np.array(edges_GC_diag)\n",
    "\n",
    "    # COLOR PENALTIES\n",
    "    col_penal_matrix = [[-P_colors if i == j else P_colors for j in range(num_colors)] for i in range(num_colors)]\n",
    "\n",
    "    # NODES PENALTIES\n",
    "    nodes_penal_matrix = [[P_nodes if i == j else 0 for j in range(num_colors)] for i in range(num_colors)]\n",
    "\n",
    "    # BUILDING CONNECTION MATRICES\n",
    "    matrix1 = np.array(np.kron(edges_GC_diag, col_penal_matrix))\n",
    "    matrix2 = np.array(np.kron(edges_GC_offdiag, nodes_penal_matrix))\n",
    "    matrix_sum = matrix1+matrix2\n",
    "\n",
    "    return matrix_sum, np.array(edges_GC)"
   ]
  },
  {
   "cell_type": "code",
   "execution_count": 7,
   "metadata": {},
   "outputs": [
    {
     "name": "stdout",
     "output_type": "stream",
     "text": [
      "[1, 1, 1, 0, 0]\n",
      "[1, 1, 1, 0, 1]\n",
      "[1, 1, 1, 1, 1]\n",
      "[0, 0, 1, 1, 0]\n",
      "[0, 1, 1, 0, 1]\n"
     ]
    }
   ],
   "source": [
    "num_colors = 3\n",
    "nodes = 5\n",
    "size_matrix = nodes\n",
    "P = 1\n",
    "P_nodes = 2\n",
    "P_colors = 4\n",
    "GC_QUBO_matrix, edges_GC = make_edges_GC(size_matrix, nodes, num_colors, P, P_nodes, P_colors)"
   ]
  },
  {
   "cell_type": "markdown",
   "metadata": {},
   "source": [
    "### Visualization of Graphs"
   ]
  },
  {
   "cell_type": "code",
   "execution_count": 8,
   "metadata": {},
   "outputs": [
    {
     "data": {
      "image/png": "[encoded data removed]",
      "text/plain": [
       "<Figure size 640x480 with 1 Axes>"
      ]
     },
     "metadata": {},
     "output_type": "display_data"
    }
   ],
   "source": [
    "G = nx.Graph()  # создаём объект графа\n",
    "\n",
    "# определяем список узлов (ID узлов)\n",
    "nodes1 = np.arange(0, size_matrix, 1)\n",
    "\n",
    "# определяем список рёбер\n",
    "# список кортежей, каждый из которых представляет ребро, кортеж (id_1, id_2) означает, что узлы id_1 и id_2 соединены ребром\n",
    "edges1 = []\n",
    "for i in range(size_matrix):\n",
    "    for j in range(i, size_matrix):\n",
    "        if  i != j and edges_GC[i][j] == P:\n",
    "            edges1.append([i, j])\n",
    "\n",
    "# добавляем информацию в объект графа\n",
    "G.add_nodes_from(nodes1)\n",
    "G.add_edges_from(edges1)\n",
    "\n",
    "# рисуем граф и отображаем его\n",
    "nx.draw(G, with_labels=True, font_weight='bold')\n",
    "plt.show()"
   ]
  },
  {
   "cell_type": "markdown",
   "metadata": {},
   "source": [
    "### Graph Coloring Solution"
   ]
  },
  {
   "cell_type": "code",
   "execution_count": 9,
   "metadata": {},
   "outputs": [
    {
     "name": "stdout",
     "output_type": "stream",
     "text": [
      "[-4  4  4  2  0  0  2  0  0  0  0  0  0  0  0]\n",
      "[ 4 -4  4  0  2  0  0  2  0  0  0  0  0  0  0]\n",
      "[ 4  4 -4  0  0  2  0  0  2  0  0  0  0  0  0]\n",
      "[ 2  0  0 -4  4  4  2  0  0  0  0  0  2  0  0]\n",
      "[ 0  2  0  4 -4  4  0  2  0  0  0  0  0  2  0]\n",
      "[ 0  0  2  4  4 -4  0  0  2  0  0  0  0  0  2]\n",
      "[ 2  0  0  2  0  0 -4  4  4  2  0  0  2  0  0]\n",
      "[ 0  2  0  0  2  0  4 -4  4  0  2  0  0  2  0]\n",
      "[ 0  0  2  0  0  2  4  4 -4  0  0  2  0  0  2]\n",
      "[ 0  0  0  0  0  0  2  0  0 -4  4  4  0  0  0]\n",
      "[ 0  0  0  0  0  0  0  2  0  4 -4  4  0  0  0]\n",
      "[ 0  0  0  0  0  0  0  0  2  4  4 -4  0  0  0]\n",
      "[ 0  0  0  2  0  0  2  0  0  0  0  0 -4  4  4]\n",
      "[ 0  0  0  0  2  0  0  2  0  0  0  0  4 -4  4]\n",
      "[ 0  0  0  0  0  2  0  0  2  0  0  0  4  4 -4]\n",
      "[1 0 0 0 1 0 0 0 1 1 0 0 1 0 0]\n",
      "{0: [0, 3, 4], 1: [1], 2: [2]}\n"
     ]
    }
   ],
   "source": [
    "print(*GC_QUBO_matrix, sep=\"\\n\")\n",
    "def solution(QUBO):\n",
    "    x_vectors = np.array(list(itertools.product([0, 1], repeat = np.array(QUBO).shape[0])))\n",
    "    b = 10 ** 6\n",
    "    for x_vector in x_vectors:\n",
    "        y = np.dot(np.dot(x_vector, QUBO), x_vector.T)\n",
    "        if y <= b:\n",
    "            b = y\n",
    "            solution1 = x_vector\n",
    "    return solution1\n",
    "\n",
    "print(solution(GC_QUBO_matrix))\n",
    "\n",
    "def nodes_colors(matrix, size_nodes):\n",
    "    dict1 = {}\n",
    "    count = 0\n",
    "    for i in range(size_nodes):\n",
    "        t = count + 3\n",
    "        for j in range(count, t):\n",
    "            if matrix[j] == 1:\n",
    "                dict1.setdefault(j-count, []).append(i)\n",
    "        count += 3\n",
    "    return dict1\n",
    "\n",
    "print(nodes_colors(solution(GC_QUBO_matrix), nodes))\n"
   ]
  },
  {
   "cell_type": "markdown",
   "metadata": {},
   "source": [
    "### SIMCIM Solution"
   ]
  },
  {
   "cell_type": "code",
   "execution_count": 12,
   "metadata": {},
   "outputs": [
    {
     "name": "stderr",
     "output_type": "stream",
     "text": [
      "c:\\Users\\79179\\Desktop\\шк\\Skoltech\\Industrial Immersion\\Practice_codes\\QUBO_module.py:27: UserWarning: To copy construct from a tensor, it is recommended to use sourceTensor.clone().detach() or sourceTensor.clone().detach().requires_grad_(True), rather than torch.tensor(sourceTensor).\n",
      "  self.J = torch.tensor(J, dtype=self.dtypef, device=self.device) / self.norm\n",
      "c:\\Users\\79179\\Desktop\\шк\\Skoltech\\Industrial Immersion\\Practice_codes\\QUBO_module.py:33: UserWarning: To copy construct from a tensor, it is recommended to use sourceTensor.clone().detach() or sourceTensor.clone().detach().requires_grad_(True), rather than torch.tensor(sourceTensor).\n",
      "  self.b = torch.tensor(b, dtype=self.dtypef, device=self.device) / self.norm\n"
     ]
    }
   ],
   "source": [
    "GC_problem = QUBO_module.QUBO_optimizer()\n",
    "GC_solution = GC_problem.optimize(GC_QUBO_matrix)"
   ]
  },
  {
   "cell_type": "code",
   "execution_count": 14,
   "metadata": {},
   "outputs": [
    {
     "name": "stdout",
     "output_type": "stream",
     "text": [
      "{1: [0, 4], 2: [1, 3], 0: [2]}\n"
     ]
    }
   ],
   "source": [
    "print(nodes_colors(GC_solution, nodes))"
   ]
  },
  {
   "cell_type": "markdown",
   "metadata": {},
   "source": [
    "***"
   ]
  }
 ],
 "metadata": {
  "kernelspec": {
   "display_name": "Python 3",
   "language": "python",
   "name": "python3"
  },
  "language_info": {
   "codemirror_mode": {
    "name": "ipython",
    "version": 3
   },
   "file_extension": ".py",
   "mimetype": "text/x-python",
   "name": "python",
   "nbconvert_exporter": "python",
   "pygments_lexer": "ipython3",
   "version": "3.10.7"
  }
 },
 "nbformat": 4,
 "nbformat_minor": 2
}
