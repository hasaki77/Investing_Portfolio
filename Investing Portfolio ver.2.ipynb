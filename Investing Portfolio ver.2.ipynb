{
 "cells": [
  {
   "cell_type": "markdown",
   "metadata": {},
   "source": [
    "## PORTFOLIO INVESTMENT PROBLEM (PIP)"
   ]
  },
  {
   "cell_type": "markdown",
   "metadata": {},
   "source": [
    "### Import Libraries"
   ]
  },
  {
   "cell_type": "code",
   "execution_count": 9,
   "metadata": {},
   "outputs": [],
   "source": [
    "import random\n",
    "import pandas as pd\n",
    "import numpy as np\n",
    "import matplotlib.pyplot as plt\n",
    "import networkx as nx\n",
    "import seaborn as sns\n",
    "import itertools\n",
    "import yfinance as yf\n",
    "\n",
    "import QUBO_module\n",
    "import plotly.express as px"
   ]
  },
  {
   "cell_type": "markdown",
   "metadata": {},
   "source": [
    "### DOWNLOAD COMPANIES"
   ]
  },
  {
   "cell_type": "markdown",
   "metadata": {},
   "source": [
    "Link to the tickers website <br>\n",
    "https://www.sec.gov/files/company_tickers.json"
   ]
  },
  {
   "cell_type": "code",
   "execution_count": 3,
   "metadata": {},
   "outputs": [
    {
     "name": "stdout",
     "output_type": "stream",
     "text": [
      "126\n"
     ]
    }
   ],
   "source": [
    "tickers = ['EQNR', 'ABT', 'AAPL', 'SLB', 'NFLX', 'UL', 'ETN', 'DIS', 'MUFG', 'EVLO', 'AXP', 'DE', 'V', 'PANW', 'AMAT', 'SHOP', 'SNY', 'NEE', 'PFE', 'CB', 'LLY', 'UNH', 'MRK', 'AMD', 'CVX', 'UNP', 'JPM', 'HDB', 'BA', 'SYK', 'T', 'AMZN', 'ADP', 'SONY', 'TSM', 'UBER', 'LRCX', 'BX', 'REGN', 'LIN', 'LVMUY', 'ISRG', 'ZTS', 'INTU', 'ORCL', 'AN', 'INTC', 'ITW', 'BSX', 'GILD', 'BRK-B', 'TMO', 'WFC', 'AMT', 'QCOM', 'MBGYY', 'PYPL', 'VRTX', 'SPGI', 'CSLLY', 'MDLZ', 'MDT', 'CSX', 'PLD', 'GOOG', 'IBM', 'CNI', 'HD', 'HCA', 'CMA', 'BMY', 'XOM', 'PM', 'NVDA', 'EQIX', 'META', 'COP', 'SO', 'VZ', 'TD', 'WMT', 'FI', 'NKE', 'JNJ', 'SBUX', 'CVS', 'MA', 'RTX', 'FMX', 'ASML', 'COST', 'AMGN', 'TMUS', 'TSLA', 'SPY', 'BUD', 'PBR', 'EBS', 'IBN', 'LTMAY', 'LOW', 'PBCRY', 'RY', 'RTNTF', 'HSBC', 'ABBV', 'TXN', 'PEP', 'QQQ', 'BRTX', 'MMC', 'MS', 'CHWY', 'TTE', 'BABA', 'EADSY', 'ACN', 'MO', 'BHP', 'SAP', 'LMT', 'CMCSA', 'MSFT', 'HON', 'CI', 'UPS']\n",
    "print(len(tickers))"
   ]
  },
  {
   "cell_type": "code",
   "execution_count": 4,
   "metadata": {},
   "outputs": [
    {
     "name": "stdout",
     "output_type": "stream",
     "text": [
      "[*********************100%***********************]  116 of 116 completed\n"
     ]
    }
   ],
   "source": [
    "df_profit_matrix_companies = yf.download(['EQNR', 'ABT', 'AAPL', 'SLB', 'NFLX', 'UL', 'ETN', 'DIS', 'MUFG', 'EVLO', 'AXP', 'DE', 'V', 'PANW', 'AMAT', 'SHOP', 'SNY', 'NEE', 'PFE', 'CB', 'LLY', 'UNH', 'MRK', 'AMD', 'CVX', 'UNP', 'JPM', 'HDB', 'BA', 'SYK', 'T', 'AMZN', 'ADP', 'SONY', 'TSM', 'UBER', 'LRCX', 'BX', 'REGN', 'LIN', 'LVMUY', 'ISRG', 'ZTS', 'INTU', 'ORCL', 'AN', 'INTC', 'ITW', 'BSX', 'GILD', 'BRK-B', 'TMO', 'WFC', 'AMT', 'QCOM', 'MBGYY', 'PYPL', 'VRTX', 'SPGI', 'CSLLY', 'MDLZ', 'MDT', 'CSX', 'PLD', 'GOOG', 'IBM', 'CNI', 'HD', 'HCA', 'CMA', 'BMY', 'XOM', 'PM', 'NVDA', 'EQIX', 'META', 'COP', 'SO', 'VZ', 'TD', 'WMT', 'FI', 'NKE', 'JNJ', 'SBUX', 'CVS', 'MA', 'RTX', 'FMX', 'ASML', 'COST', 'AMGN', 'TMUS', 'TSLA', 'SPY', 'BUD', 'PBR', 'EBS', 'IBN', 'LTMAY', 'LOW', 'PBCRY', 'RY', 'RTNTF', 'HSBC', 'ABBV', 'TXN', 'PEP', 'QQQ', 'SAP', 'LMT', 'CMCSA', 'MSFT', 'HON', 'CI', 'UPS'], start = \"2019-12-02\", end = \"2020-12-01\")"
   ]
  },
  {
   "cell_type": "markdown",
   "metadata": {},
   "source": [
    "### Data Preparation"
   ]
  },
  {
   "cell_type": "code",
   "execution_count": 5,
   "metadata": {},
   "outputs": [],
   "source": [
    "# NORMALISATION DATA\n",
    "df_profit_matrix_companies_norm = np.log(1 + df_profit_matrix_companies['Adj Close'].pct_change())\n",
    "df_profit_matrix_companies_norm = df_profit_matrix_companies_norm[1:]\n",
    "\n",
    "# Covariance matrix\n",
    "covariance_matrix = np.array(df_profit_matrix_companies_norm.cov())\n",
    "#Tickers of company\n",
    "comp_tickers = list(df_profit_matrix_companies_norm.columns)\n",
    "# Expectation value\n",
    "exp_value = np.array(df_profit_matrix_companies_norm.mean())"
   ]
  },
  {
   "cell_type": "markdown",
   "metadata": {},
   "source": [
    "### Function to make QUBO matrix"
   ]
  },
  {
   "cell_type": "code",
   "execution_count": 6,
   "metadata": {},
   "outputs": [],
   "source": [
    "def QUBO_matrix(covariance_matrix, exp_value, P_companies, P_profit, e_0, accepted_number_companies):\n",
    "    \n",
    "    #1 Volatility\n",
    "    #covariance_matrix = np.array(df_profit_matrix_companies_norm.cov())\n",
    "\n",
    "    #2 Profitability\n",
    "    #exp_value = np.array(df_profit_matrix_companies_norm.mean())\n",
    "    exp_value_matrix = np.dot(np.transpose(np.array([exp_value])), np.array([exp_value]))\n",
    "\n",
    "    #3 QUBO matrix\n",
    "    QUBO_model = np.array([[covariance_matrix[i][j] + P_profit * (exp_value_matrix[i][j] - 2 * exp_value[i] * e_0) + P_companies * (1 - 2 * accepted_number_companies)  if i == j else covariance_matrix[i][j] + P_companies + P_profit * (exp_value_matrix[i][j]) for j in range(len(covariance_matrix))] for i in range(len(covariance_matrix))])\n",
    "\n",
    "    return QUBO_model"
   ]
  },
  {
   "cell_type": "markdown",
   "metadata": {},
   "source": [
    "### Set Parameters and Make QUBO matrix"
   ]
  },
  {
   "cell_type": "code",
   "execution_count": 10,
   "metadata": {},
   "outputs": [],
   "source": [
    "months = len(df_profit_matrix_companies_norm)\n",
    "number_companies = len(df_profit_matrix_companies_norm.columns)\n",
    "size_matrix = number_companies\n",
    "P_companies = 50\n",
    "P_profit = 4000\n",
    "e_0 = 0.006537834940166739\n",
    "accepted_number_companies = 60\n",
    "\n",
    "QUBO_model = QUBO_matrix(covariance_matrix, exp_value, P_companies, P_profit, e_0, accepted_number_companies)\n",
    "\n",
    "# Matrix Representation\n",
    "#print('QUBO MATRIX', pd.DataFrame(QUBO_model), sep=\"\\n\")"
   ]
  },
  {
   "cell_type": "markdown",
   "metadata": {},
   "source": [
    "### Visualization of Profitability Companies"
   ]
  },
  {
   "cell_type": "code",
   "execution_count": 11,
   "metadata": {},
   "outputs": [
    {
     "data": {
      "image/png": "[encoded data removed]",
      "text/plain": [
       "<Figure size 960x600 with 1 Axes>"
      ]
     },
     "metadata": {},
     "output_type": "display_data"
    }
   ],
   "source": [
    "'''\n",
    "# Visualization of Covariance Matrix\n",
    "sns.heatmap(covariance_matrix, annot=True, fmt='g')\n",
    "plt.show()\n",
    "'''\n",
    "\n",
    "fig, ax = plt.subplots(figsize=(8, 5), dpi = 120)\n",
    "ax.set_title(\"Profit\", fontsize = 12)\n",
    "ax.set_ylabel(\"Profitability\", fontsize = 12)\n",
    "ax.set_xlabel(\"Time [months]\", fontsize = 12)\n",
    "\n",
    "time = np.arange(1, months, 1)\n",
    "profit = []\n",
    "for i in range(number_companies):\n",
    "    a = []\n",
    "    b = 0\n",
    "    for j in range(1, months):\n",
    "        b += df_profit_matrix_companies_norm.iloc[j, i]\n",
    "        a.append(b)\n",
    "    profit.append(a)\n",
    "\n",
    "for i in range(number_companies):   \n",
    "    ax.plot(time, profit[i], linewidth = 1, label='${i}$'.format(i=i))\n",
    "\n",
    "plt.show()"
   ]
  },
  {
   "cell_type": "markdown",
   "metadata": {},
   "source": [
    "### PIP SOLUTION"
   ]
  },
  {
   "cell_type": "code",
   "execution_count": 13,
   "metadata": {},
   "outputs": [],
   "source": [
    "def solution(QUBO):\n",
    "    x_vectors = np.array(list(itertools.product([0, 1], repeat = np.array(QUBO).shape[0])))\n",
    "    b = np.inf\n",
    "    for x_vector in x_vectors:\n",
    "        y = np.dot(np.dot(x_vector, QUBO), x_vector.T)\n",
    "        if y < b:\n",
    "            b = y\n",
    "            solution1 = x_vector\n",
    "    return solution1\n",
    "\n",
    "#print(QUBO_model)\n",
    "print(solution(QUBO_model))"
   ]
  },
  {
   "cell_type": "markdown",
   "metadata": {},
   "source": [
    "### SIMCIM SOLUTION"
   ]
  },
  {
   "cell_type": "code",
   "execution_count": 12,
   "metadata": {},
   "outputs": [
    {
     "name": "stderr",
     "output_type": "stream",
     "text": [
      "c:\\Users\\79179\\Desktop\\шк\\Skoltech\\Industrial Immersion\\Practice_codes\\QUBO_module.py:27: UserWarning: To copy construct from a tensor, it is recommended to use sourceTensor.clone().detach() or sourceTensor.clone().detach().requires_grad_(True), rather than torch.tensor(sourceTensor).\n",
      "  self.J = torch.tensor(J, dtype=self.dtypef, device=self.device) / self.norm\n",
      "c:\\Users\\79179\\Desktop\\шк\\Skoltech\\Industrial Immersion\\Practice_codes\\QUBO_module.py:33: UserWarning: To copy construct from a tensor, it is recommended to use sourceTensor.clone().detach() or sourceTensor.clone().detach().requires_grad_(True), rather than torch.tensor(sourceTensor).\n",
      "  self.b = torch.tensor(b, dtype=self.dtypef, device=self.device) / self.norm\n"
     ]
    },
    {
     "name": "stdout",
     "output_type": "stream",
     "text": [
      "[0, 0, 0, 1, 0, 0, 1, 1, 0, 0, 0, 1, 1, 1, 1, 1, 1, 0, 1, 1, 1, 1, 0, 1, 0, 1, 0, 1, 1, 0, 1, 0, 0, 1, 0, 1, 1, 1, 1, 0, 1, 0, 1, 0, 1, 1, 1, 1, 0, 0, 0, 1, 1, 0, 0, 1, 0, 0, 1, 0, 0, 0, 1, 1, 0, 1, 0, 1, 0, 0, 0, 0, 1, 0, 1, 1, 1, 1, 1, 1, 0, 0, 0, 0, 1, 1, 1, 1, 0, 0, 1, 1, 1, 0, 0, 1, 0, 1, 1, 0, 0, 0, 0, 0, 0, 1, 0, 0, 0, 1, 1, 1, 1, 0, 1, 0]\n"
     ]
    }
   ],
   "source": [
    "PIP_problem = QUBO_module.QUBO_optimizer()\n",
    "print(PIP_problem.optimize(np.array(QUBO_model)))"
   ]
  },
  {
   "cell_type": "markdown",
   "metadata": {},
   "source": [
    "### FRONTIER BUILDER"
   ]
  },
  {
   "cell_type": "code",
   "execution_count": 15,
   "metadata": {},
   "outputs": [],
   "source": [
    "def e_sum_solution(solution, comp_tickers, exp_value):\n",
    "    dict1 = {}\n",
    "    for i in range(len(comp_tickers)):\n",
    "        dict1[comp_tickers[i]] = [solution[i], exp_value[i]]\n",
    "    e_sum1 = 0\n",
    "    for key in dict1:\n",
    "        if dict1[key][0] == 1:\n",
    "            e_sum1 += dict1[key][1]\n",
    "    return e_sum1\n",
    "\n",
    "def e_sum_max_comp(exp_value, accepted_number_companies):\n",
    "    dict1 = {}\n",
    "    max_values = 0\n",
    "    exp_value = list(exp_value)\n",
    "    for i in range(accepted_number_companies):\n",
    "        max_values += exp_value.pop(exp_value.index(max(exp_value)))\n",
    "    return(max_values)"
   ]
  },
  {
   "cell_type": "code",
   "execution_count": 16,
   "metadata": {},
   "outputs": [],
   "source": [
    "def make_frontier_dict(exp_value, covariance_matrix, P_companies, accepted_number_companies, comp_tickers):\n",
    "    step = e_sum_max_comp(exp_value, accepted_number_companies)/500\n",
    "    lst_A = np.arange(-6, 6, 0.1, dtype=float)\n",
    "\n",
    "    frontier_dict = {}\n",
    "    for e_0 in np.arange(0, e_sum_max_comp(exp_value, accepted_number_companies), step):\n",
    "        low = 0\n",
    "        high = len(lst_A) - 1\n",
    "\n",
    "        while low <= high:\n",
    "            middle = (low + high) // 2\n",
    "            A = 10 ** (lst_A[middle])\n",
    "            \n",
    "            QUBO_model = QUBO_matrix(covariance_matrix, exp_value, P_companies, A, e_0, accepted_number_companies)\n",
    "            PIP_problem = QUBO_module.QUBO_optimizer()\n",
    "            solution = PIP_problem.optimize(np.array(QUBO_model))\n",
    "\n",
    "            if abs(e_0 - e_sum_solution(solution, comp_tickers, exp_value)) > step:\n",
    "                low = middle + 1\n",
    "\n",
    "            elif abs(e_0 - e_sum_solution(solution, comp_tickers, exp_value)) < step:\n",
    "                high = middle - 1\n",
    "\n",
    "        \n",
    "        frontier_dict[e_sum_solution(solution, comp_tickers, exp_value)] = solution\n",
    "    \n",
    "    return frontier_dict"
   ]
  },
  {
   "cell_type": "code",
   "execution_count": 17,
   "metadata": {},
   "outputs": [
    {
     "name": "stderr",
     "output_type": "stream",
     "text": [
      "c:\\Users\\79179\\Desktop\\шк\\Skoltech\\Industrial Immersion\\Practice_codes\\QUBO_module.py:27: UserWarning: To copy construct from a tensor, it is recommended to use sourceTensor.clone().detach() or sourceTensor.clone().detach().requires_grad_(True), rather than torch.tensor(sourceTensor).\n",
      "  self.J = torch.tensor(J, dtype=self.dtypef, device=self.device) / self.norm\n",
      "c:\\Users\\79179\\Desktop\\шк\\Skoltech\\Industrial Immersion\\Practice_codes\\QUBO_module.py:33: UserWarning: To copy construct from a tensor, it is recommended to use sourceTensor.clone().detach() or sourceTensor.clone().detach().requires_grad_(True), rather than torch.tensor(sourceTensor).\n",
      "  self.b = torch.tensor(b, dtype=self.dtypef, device=self.device) / self.norm\n"
     ]
    }
   ],
   "source": [
    "frontier_dict = make_frontier_dict(exp_value, covariance_matrix, P_companies, accepted_number_companies, comp_tickers)"
   ]
  },
  {
   "cell_type": "code",
   "execution_count": 20,
   "metadata": {},
   "outputs": [
    {
     "name": "stdout",
     "output_type": "stream",
     "text": [
      "262\n",
      "       Return  Volatility  Optimum Sharp\n",
      "0   -0.005245    1.379619      -0.003802\n",
      "1   -0.002069    1.366002      -0.001515\n",
      "2    0.002032    1.365468       0.001488\n",
      "3    0.004739    1.342047       0.003531\n",
      "4    0.002078    1.356671       0.001532\n",
      "..        ...         ...            ...\n",
      "257  0.076782    1.370270       0.056034\n",
      "258  0.093072    1.361413       0.068364\n",
      "259  0.084743    1.378768       0.061463\n",
      "260  0.090674    1.252303       0.072406\n",
      "261  0.092629    1.311070       0.070652\n",
      "\n",
      "[262 rows x 3 columns]\n"
     ]
    }
   ],
   "source": [
    "def frontier_data(covariance_matrix, frontier_dict):\n",
    "    b = []\n",
    "    for key in frontier_dict:\n",
    "        volatility = np.sqrt(np.dot(np.dot((np.array([frontier_dict[key]])), covariance_matrix), (np.array([frontier_dict[key]]).T)))\n",
    "        optimum_sharp = key / volatility\n",
    "        b.append([key, float(volatility), float(optimum_sharp)])\n",
    "    b = pd.DataFrame(b)\n",
    "    b.rename(columns = {0:'Return', 1: 'Volatility', 2: 'Optimum Sharp'}, inplace = True)\n",
    "    return b\n",
    "print(len(frontier_dict))\n",
    "\n",
    "df_frontier_data = frontier_data(covariance_matrix, frontier_dict)\n",
    "print(df_frontier_data)\n"
   ]
  },
  {
   "cell_type": "markdown",
   "metadata": {},
   "source": [
    "### Frontier Visualization"
   ]
  },
  {
   "cell_type": "code",
   "execution_count": 21,
   "metadata": {},
   "outputs": [
    {
     "data": {
      "application/vnd.plotly.v1+json": {
       "config": {
        "plotlyServerURL": "https://plot.ly"
       },
       "data": [
        {
         "hovertemplate": "Volatility=%{x}<br>Return=%{y}<br>Optimum Sharp=%{marker.color}<extra></extra>",
         "legendgroup": "",
         "marker": {
          "color": [
           -0.0038016344408253505,
           -0.0015149291952884028,
           0.0014880128144044342,
           0.003531021124743518,
           0.0015315833819342303,
           0.0035220357437867706,
           0.0035936009866850806,
           0.005641720967301007,
           0.0057052142760790235,
           0.005785820673092769,
           0.005829135792110055,
           0.007774962431996483,
           0.007686613124532456,
           0.00784452522756335,
           0.007954961144521724,
           0.008269664189942537,
           0.00858800140334311,
           0.0087118455272059,
           0.008626615194746935,
           0.007373295669464012,
           0.00873630119582626,
           0.008679850980417368,
           0.009132706534681423,
           0.009112627388441196,
           0.009366469586369292,
           0.009490528083425593,
           0.009598082806839102,
           0.009639384176046924,
           0.01002647594751732,
           0.011152144408251302,
           0.012030408730461663,
           0.012511670377118984,
           0.010705686863071023,
           0.010014192709892643,
           0.014057196280042143,
           0.014973155176536506,
           0.008213413512587564,
           0.015629017746289695,
           0.008324036506563723,
           0.009611325462102615,
           0.010124926791146469,
           0.010006229398362784,
           0.01668326001554272,
           0.01668526908762453,
           0.016681503228299387,
           0.017506510646344366,
           0.01089256227327953,
           0.01754742077912772,
           0.018720675978070596,
           0.018445696056750092,
           0.01846405975608666,
           0.018740718784136162,
           0.01964720304190534,
           0.019743845408856018,
           0.01955510566170203,
           0.019531340908981003,
           0.01954714678221458,
           0.02073505754411671,
           0.020731651222248713,
           0.020699599435498588,
           0.01953510400147708,
           0.020670265401382726,
           0.008652211562890567,
           0.009391506819760278,
           0.020662996776591978,
           0.009733585352074255,
           0.009152081441197795,
           0.021656191090104714,
           0.020780121609613567,
           0.021680471654783005,
           0.0216048273768607,
           0.021660354057147675,
           0.021648941223824467,
           0.021597248053094105,
           0.02157507161454342,
           0.021567029206493518,
           0.02155925257250307,
           0.022593610078115896,
           0.022612736875950265,
           0.022649979443674355,
           0.022989545508456992,
           0.022857936206687458,
           0.022742426451128447,
           0.022774122602946388,
           0.022807482355236736,
           0.023838041276953284,
           0.024015771934385657,
           0.023903824143244903,
           0.023943232882768378,
           0.023794284072520315,
           0.023657752139848123,
           0.023264552828236734,
           0.023935871917746425,
           0.025433021698330165,
           0.026392800523768693,
           0.026173459251172353,
           0.026192678943550204,
           0.0252831931326998,
           0.026130930078288355,
           0.025523102796335382,
           0.02614110514841927,
           0.026243972236426816,
           0.025799237930152513,
           0.02498929251298246,
           0.023963794062403013,
           0.023522242557846098,
           0.02342239148482251,
           0.02403328159004849,
           0.023950155697764545,
           0.024348891097034673,
           0.024474194647753782,
           0.01148588824786922,
           0.01641614063720379,
           0.01928017594367513,
           0.019662779281315837,
           0.027988197814267014,
           0.027828512986611383,
           0.026782213187638147,
           0.027181303860282693,
           0.025177710565845158,
           0.02684949996772411,
           0.026140758171151808,
           0.026719129857577007,
           0.030858457048868044,
           0.027109177389296975,
           0.027264808223442072,
           0.027355127120024143,
           0.03251280123920174,
           0.027868135920727444,
           0.028152788532886327,
           0.028416643067667155,
           0.036315206265100625,
           0.03143491684617138,
           0.03186711606419967,
           0.03292581344604052,
           0.0333883176558109,
           0.03203921520391382,
           0.03007167049858935,
           0.030211937261593564,
           0.031801269459509465,
           0.029991526839344838,
           0.025812023394680743,
           0.02926672140950637,
           0.030526018145909738,
           0.030776762583711818,
           0.0309626469640376,
           0.031190013550207573,
           0.031281534405425894,
           0.03146876297798733,
           0.03154570719031261,
           0.03162876169621274,
           0.03169340418853875,
           0.03185381679943372,
           0.031929490171278725,
           0.03210118387852869,
           0.032079478743070225,
           0.03200762406387233,
           0.031771831146259095,
           0.04293364293560169,
           0.045182504111105214,
           0.047296000543974835,
           0.04984179563703121,
           0.031532425832052555,
           0.03149242043471433,
           0.031228705437667505,
           0.030862081484225243,
           0.030765349141394,
           0.031851942783315254,
           0.03192000074734885,
           0.03168002900251283,
           0.03151985829369589,
           0.03217091748425509,
           0.032926488733179216,
           0.03177232407146468,
           0.03273705253944089,
           0.03178601075989052,
           0.03195953048402602,
           0.0322883024070974,
           0.03290050581745557,
           0.03391356161746487,
           0.03354302755291025,
           0.03335060204185286,
           0.03279724290549671,
           0.03355679187743113,
           0.03363281797409488,
           0.034209975059588775,
           0.03460760668866856,
           0.034387400543328644,
           0.03565749490280001,
           0.0341766078972998,
           0.03402729717436263,
           0.03387219853690287,
           0.03542952962544725,
           0.0355001332527716,
           0.0362776315424661,
           0.03637171152212606,
           0.04554444105205016,
           0.036013379643661,
           0.03796868503491807,
           0.04570003122928589,
           0.045429423699377164,
           0.04526506319962649,
           0.037612471689152695,
           0.03834486966745291,
           0.039344979891004814,
           0.03786497509198746,
           0.03793006601638103,
           0.03782586803485758,
           0.039281666559862066,
           0.03966959439225326,
           0.03971049880924716,
           0.04514597171436979,
           0.04489366437683056,
           0.04017131752964556,
           0.04067917054158575,
           0.04091660806624387,
           0.04342895239395032,
           0.04330423467853289,
           0.0409873467048542,
           0.04134443021533186,
           0.044984687012070576,
           0.04215372415802338,
           0.04291459605598568,
           0.04318675830132215,
           0.04728343345476487,
           0.043596682738859124,
           0.044745240696604224,
           0.04454254371893114,
           0.04533498806909082,
           0.046323089937750174,
           0.04633623986514949,
           0.046105839750615635,
           0.04676237887369904,
           0.046671981510927475,
           0.048127222916378005,
           0.048183304104754535,
           0.04879584051396654,
           0.050925265008134865,
           0.04798424521714912,
           0.05063802917309533,
           0.04747891009111635,
           0.04690562518101376,
           0.04684946502308145,
           0.046855647109796734,
           0.047950388604623036,
           0.047799787453677,
           0.048150840778738824,
           0.048185647738967656,
           0.04488294107754088,
           0.04679897763643775,
           0.04709530454187038,
           0.046794978731901145,
           0.047333768902458266,
           0.046580007658453826,
           0.04606376962678742,
           0.04834410149902223,
           0.053558370272896824,
           0.05603386174245753,
           0.06836427571160929,
           0.061462667194962066,
           0.0724059947152171,
           0.0706516601523309
          ],
          "coloraxis": "coloraxis",
          "symbol": "circle"
         },
         "mode": "markers",
         "name": "",
         "orientation": "v",
         "showlegend": false,
         "type": "scatter",
         "x": [
          1.3796188276049126,
          1.3660020950928378,
          1.3654677208506258,
          1.342047148414421,
          1.3566706649263056,
          1.3464604568912382,
          1.3389679366559903,
          1.324535390515049,
          1.3211911230410067,
          1.3160347366508038,
          1.3149408678935517,
          1.3172923762695468,
          1.3224597158126676,
          1.3138995427329467,
          1.3112244431927553,
          1.2647036401543588,
          1.257536265660898,
          1.246612128335795,
          1.2758482569386849,
          1.2820212448877157,
          1.3105374826035185,
          1.3169182659442473,
          1.300800162581929,
          1.318639382440949,
          1.3066717868595659,
          1.316179196980569,
          1.3185360706686735,
          1.3238674068737508,
          1.3225429286619896,
          1.3426080541274439,
          1.337952834242562,
          1.3263406647466132,
          1.3853494407303437,
          1.3866211062262763,
          1.3706814820286801,
          1.3761362840497489,
          1.3164530741703786,
          1.3935947487287135,
          1.313833120187272,
          1.2809722998632913,
          1.2682790579485423,
          1.2696585109583565,
          1.3705913550832296,
          1.3766168972374986,
          1.3926641590701982,
          1.376922402830191,
          1.2586886603937213,
          1.3752739062065942,
          1.3563576297730513,
          1.3821795159266987,
          1.3759037719302618,
          1.3662202195018134,
          1.357149472384287,
          1.3560109025210743,
          1.3711091073835635,
          1.3774106640748602,
          1.3742924795936369,
          1.3514902787310956,
          1.3445780148007531,
          1.3464218013605704,
          1.3804271647256818,
          1.3467115611918596,
          1.3001903349782438,
          1.2824272418721885,
          1.347066385793828,
          1.2581851749815072,
          1.2584681412764886,
          1.3347449590466904,
          1.3561196416975276,
          1.3417077935277597,
          1.3309744239828245,
          1.3338920918417612,
          1.3325577343064858,
          1.3281041041555641,
          1.3203715604503101,
          1.3182197176997703,
          1.3274972721554723,
          1.3171399410703517,
          1.3172627357884203,
          1.3179023192131816,
          1.316843781017444,
          1.3009167864295594,
          1.2940332129596344,
          1.2979709607219903,
          1.3011679853046274,
          1.2794891342641361,
          1.2850798663211647,
          1.3032562828214724,
          1.2825282277678633,
          1.2771036839100973,
          1.2727235137741097,
          1.284792614944214,
          1.2694786967518459,
          1.280321935996974,
          1.2691933305609904,
          1.2640346759344947,
          1.2849265588167156,
          1.2723189671124242,
          1.2839681247570567,
          1.285291585562976,
          1.2755533307646676,
          1.2652706166826329,
          1.2620761017458242,
          1.272754910939091,
          1.240659327974305,
          1.2715334236185039,
          1.2716253958054164,
          1.24716679980138,
          1.2591739207843564,
          1.2525987180681517,
          1.2569462275627108,
          1.1833205313381954,
          1.1521841117219036,
          1.145301558777573,
          1.143505939567816,
          1.2261189354561588,
          1.2303059160573797,
          1.224966442019687,
          1.2302373347934135,
          1.2858170322416187,
          1.241519481371105,
          1.2437250334208505,
          1.2321906232214959,
          1.0782608952476476,
          1.2290169538076547,
          1.2305639095918082,
          1.2307517665372236,
          1.0773130836266478,
          1.230899076048493,
          1.2322374612441065,
          1.2250792047764183,
          1.1382964193072354,
          1.118706923097619,
          1.1191959810699295,
          1.0995601024869417,
          1.0778794350716627,
          1.1282930800392303,
          1.194120624259123,
          1.2002566379511932,
          1.1746641761025598,
          1.2309010945429308,
          1.2240326095599912,
          1.2449973757717352,
          1.2237303526010654,
          1.227050017984649,
          1.225583290140048,
          1.2230854821613124,
          1.222134611486781,
          1.2234496986478343,
          1.226859061967059,
          1.229404011836268,
          1.2319171911135722,
          1.2313203069924685,
          1.2351253682256809,
          1.2346826341016512,
          1.2378747069386549,
          1.2495494178829036,
          1.265504053108262,
          1.136103773948228,
          1.1526892208744874,
          1.150852325680361,
          1.1698755081566392,
          1.265636663703943,
          1.2674251387194289,
          1.2709354994195206,
          1.2737787442458453,
          1.2801462476723355,
          1.269846470943464,
          1.269646735006486,
          1.2730126980621863,
          1.27539688720615,
          1.26585417344076,
          1.2675640699825084,
          1.2798173019417003,
          1.2720262394169368,
          1.2816619774974254,
          1.2770526742262307,
          1.2750833267291797,
          1.283916678634784,
          1.2627022605485778,
          1.2683599507354895,
          1.265947700277651,
          1.2769441084397248,
          1.2726515837570764,
          1.272161077375275,
          1.2791373374305095,
          1.2712956845262908,
          1.2764853249682095,
          1.2508621269520148,
          1.279670852379985,
          1.2643850715627092,
          1.2865859848272554,
          1.2560460584328346,
          1.2596175224045594,
          1.2578360991746798,
          1.2568351669713267,
          1.2631040828338258,
          1.2699305053829788,
          1.2478073946870432,
          1.3079871900851088,
          1.3283749431618943,
          1.3383829181012055,
          1.2784674581396036,
          1.2662194788525722,
          1.2658482627667837,
          1.2736487309146616,
          1.2718573729999096,
          1.274319203348171,
          1.2685972069255305,
          1.2594050495234566,
          1.2587234217869832,
          1.2588499993826412,
          1.2703356430900328,
          1.2682301388552366,
          1.2761193045680266,
          1.2707411783071962,
          1.3275643970849953,
          1.3382745469999433,
          1.2705452501248071,
          1.2818109667009356,
          1.3513879256400374,
          1.281490315743971,
          1.2794037453467786,
          1.3166589077138924,
          1.3423429163496419,
          1.3237120769134956,
          1.300238520188301,
          1.3204336556402958,
          1.3055205512121142,
          1.280690366720104,
          1.280704193549901,
          1.2982537403490793,
          1.284917473845612,
          1.2884730990723718,
          1.253265029057121,
          1.2556576224026956,
          1.2458098222332339,
          1.3639713948414338,
          1.280450864646879,
          1.3725824663826025,
          1.2937654245306522,
          1.3117311690152467,
          1.3196038529277796,
          1.3289739094318702,
          1.3367443995300754,
          1.3521980741435695,
          1.3557309581027521,
          1.3559098764206376,
          1.3681618938951081,
          1.3685999595484357,
          1.3576560362653969,
          1.3684408825285947,
          1.3538424093559638,
          1.3796494578237324,
          1.394386477640629,
          1.3836567024498887,
          1.3761307149367277,
          1.3702698422710777,
          1.3614133208716044,
          1.3787681834040209,
          1.2523028594910954,
          1.3110702472196412
         ],
         "xaxis": "x",
         "y": [
          -0.005244806450233928,
          -0.002069396454681265,
          0.002031833466281348,
          0.00473879683145312,
          0.002077854245158792,
          0.004742281856766407,
          0.0048117164983066535,
          0.007472659084600979,
          0.007537678456602429,
          0.007614340985822418,
          0.007664968877546562,
          0.010241898737451101,
          0.010165236208231112,
          0.010306918109452551,
          0.010430739497345501,
          0.010458674403874473,
          0.010799723214250646,
          0.010860292294402822,
          0.011006251959498649,
          0.009452721693091456,
          0.011449250176444256,
          0.011430654301785716,
          0.011879826145126641,
          0.012016269351908576,
          0.012238901550986942,
          0.012491235631764635,
          0.012655418390082182,
          0.012761266533003109,
          0.013260444863788553,
          0.014972958903310534,
          0.016096119458017644,
          0.0165947372050785,
          0.01483111730838963,
          0.013885890973354449,
          0.019267938630296213,
          0.020605102125139208,
          0.010812573468078426,
          0.021780517059017193,
          0.010936394855971376,
          0.012311841681924198,
          0.012841232612473202,
          0.012704494318233023,
          0.02286593195190856,
          0.02296922336097843,
          0.02323173166546636,
          0.024105106704336805,
          0.013710344616009399,
          0.024132509918761733,
          0.025391931697365134,
          0.025495263246649857,
          0.025404769463545387,
          0.025603948930884267,
          0.026664191242148787,
          0.026772869632099416,
          0.026812183468607538,
          0.02690267725171201,
          0.026863496820310456,
          0.0280232286998036,
          0.027875322443952782,
          0.027870391959386256,
          0.026966788229380326,
          0.027836885388946214,
          0.011249521850257321,
          0.012043924187889021,
          0.027834428387513276,
          0.012246652789396982,
          0.011517602920115236,
          0.028905491889669118,
          0.0281803310716602,
          0.029088857786580043,
          0.028755472673165527,
          0.02889257498332189,
          0.028848464067353814,
          0.028683393777780047,
          0.02848711097452189,
          0.028430083152206586,
          0.028619848979708675,
          0.029758946246856075,
          0.02978691564087794,
          0.02985046043894932,
          0.030273640031229104,
          0.02973627291441572,
          0.02942945517105192,
          0.029560149794546717,
          0.029676365866034223,
          0.030500514796001698,
          0.0308621849870399,
          0.03115280899814352,
          0.030707872036170158,
          0.030387767845019047,
          0.030109777431424466,
          0.029890125663698083,
          0.03038607948775984,
          0.032562455579059124,
          0.03349756639959384,
          0.03308416008264035,
          0.033655668821127006,
          0.03216828617190055,
          0.03355128129077767,
          0.03280462926158873,
          0.0333443737419356,
          0.033205726935785655,
          0.03256060163489989,
          0.03180524476679188,
          0.02973090463717556,
          0.02990931761076292,
          0.029784507842596838,
          0.029973510889386195,
          0.030157411453349974,
          0.030499389774526663,
          0.030762746635129606,
          0.01359148738435974,
          0.018914416417978492,
          0.022081615561796993,
          0.02248450489659565,
          0.03431685930936546,
          0.034237584162507606,
          0.03280731239787384,
          0.0334394548172841,
          0.032373929078413466,
          0.03333417727500234,
          0.032511915330062154,
          0.03292306127114389,
          0.033273467523473536,
          0.03331763861522512,
          0.03355108900170976,
          0.03366737102682003,
          0.03502646616034472,
          0.03430286275601723,
          0.03469092066870604,
          0.034812638491753,
          0.04133746925796772,
          0.0351664591028099,
          0.035665548227341255,
          0.03620391080719424,
          0.03598858097283868,
          0.03614962480446366,
          0.03590920194829016,
          0.03626207824359267,
          0.03735581198867018,
          0.03691660321356325,
          0.03159475835381461,
          0.03643699135227789,
          0.037355614949200644,
          0.03776462708185286,
          0.03794730273762997,
          0.0381480527616735,
          0.03823024589728555,
          0.038500448582238715,
          0.03870213673259444,
          0.03888452651873722,
          0.039043649464771776,
          0.03922225148036058,
          0.039436923305058894,
          0.03963477426892327,
          0.03971037534782286,
          0.039995108016826486,
          0.0402073810902622,
          0.048777073768482754,
          0.05208138546098819,
          0.05443071222141306,
          0.05830869599831125,
          0.03990859422857102,
          0.039914285338078385,
          0.03968967034164705,
          0.03931146339778938,
          0.03938414626168484,
          0.04044707713608601,
          0.04052712473027606,
          0.04032907919517717,
          0.040200329152958694,
          0.04072369016086262,
          0.041736434068861857,
          0.04066277006955926,
          0.04164238983133968,
          0.04073892140727573,
          0.04081400387164017,
          0.04117027604767953,
          0.042241508154551945,
          0.042822730917626374,
          0.04254463277452841,
          0.042220117957758756,
          0.04188024610124059,
          0.04270610432861933,
          0.04278636194909105,
          0.04375925641128652,
          0.04399650103508754,
          0.04389501215736285,
          0.04460260991589705,
          0.04373480895939416,
          0.043023606572892066,
          0.043579495912865494,
          0.04450112103817236,
          0.044716589892887876,
          0.045631314546671874,
          0.04571324612394423,
          0.057527369443229066,
          0.045734489411423496,
          0.04737760595311404,
          0.05977505543439537,
          0.06034730812453775,
          0.06058198737315159,
          0.04808632107477885,
          0.048553020886992024,
          0.04980477444362248,
          0.0482266774720251,
          0.04824163412130752,
          0.048202230020132755,
          0.04983261248122103,
          0.04996008749015115,
          0.0499845349420435,
          0.05683200646476315,
          0.05703002200680914,
          0.050946475608620194,
          0.05191147482193256,
          0.051994418746432465,
          0.057654731000907615,
          0.05795295504759283,
          0.05207627867107117,
          0.0529957440620139,
          0.06079176286680839,
          0.05401958928104964,
          0.054905094924072174,
          0.0568622300127227,
          0.0634705819586933,
          0.05770945545479395,
          0.058179485548822026,
          0.058815473834305944,
          0.059185758613154074,
          0.059325535039985625,
          0.05934301670863105,
          0.05985707890817201,
          0.06008579773340478,
          0.060135592657233165,
          0.06031616542673302,
          0.06050173307168212,
          0.06079033739642589,
          0.06946060474581538,
          0.061441468277726466,
          0.06950487097516136,
          0.06142657227028581,
          0.06152757055208217,
          0.06182273455206353,
          0.06226993251846668,
          0.0640974134225206,
          0.064634780539334,
          0.06527958550241265,
          0.06533539567099202,
          0.06140712966823087,
          0.06404907890013685,
          0.06393922449102749,
          0.06403616199378963,
          0.06408246373480249,
          0.06426408231141112,
          0.0642306974767455,
          0.06689164006303981,
          0.07370331837448749,
          0.07678151089167666,
          0.09307203562552396,
          0.08474276999556375,
          0.09067423422616351,
          0.09262928954239455
         ],
         "yaxis": "y"
        }
       ],
       "layout": {
        "coloraxis": {
         "colorbar": {
          "title": {
           "text": "Optimum Sharp"
          }
         },
         "colorscale": [
          [
           0,
           "#0d0887"
          ],
          [
           0.1111111111111111,
           "#46039f"
          ],
          [
           0.2222222222222222,
           "#7201a8"
          ],
          [
           0.3333333333333333,
           "#9c179e"
          ],
          [
           0.4444444444444444,
           "#bd3786"
          ],
          [
           0.5555555555555556,
           "#d8576b"
          ],
          [
           0.6666666666666666,
           "#ed7953"
          ],
          [
           0.7777777777777778,
           "#fb9f3a"
          ],
          [
           0.8888888888888888,
           "#fdca26"
          ],
          [
           1,
           "#f0f921"
          ]
         ]
        },
        "height": 800,
        "legend": {
         "tracegroupgap": 0
        },
        "margin": {
         "b": 20,
         "l": 40,
         "r": 40,
         "t": 40
        },
        "paper_bgcolor": "LightSteelBlue",
        "template": {
         "data": {
          "bar": [
           {
            "error_x": {
             "color": "#2a3f5f"
            },
            "error_y": {
             "color": "#2a3f5f"
            },
            "marker": {
             "line": {
              "color": "#E5ECF6",
              "width": 0.5
             },
             "pattern": {
              "fillmode": "overlay",
              "size": 10,
              "solidity": 0.2
             }
            },
            "type": "bar"
           }
          ],
          "barpolar": [
           {
            "marker": {
             "line": {
              "color": "#E5ECF6",
              "width": 0.5
             },
             "pattern": {
              "fillmode": "overlay",
              "size": 10,
              "solidity": 0.2
             }
            },
            "type": "barpolar"
           }
          ],
          "carpet": [
           {
            "aaxis": {
             "endlinecolor": "#2a3f5f",
             "gridcolor": "white",
             "linecolor": "white",
             "minorgridcolor": "white",
             "startlinecolor": "#2a3f5f"
            },
            "baxis": {
             "endlinecolor": "#2a3f5f",
             "gridcolor": "white",
             "linecolor": "white",
             "minorgridcolor": "white",
             "startlinecolor": "#2a3f5f"
            },
            "type": "carpet"
           }
          ],
          "choropleth": [
           {
            "colorbar": {
             "outlinewidth": 0,
             "ticks": ""
            },
            "type": "choropleth"
           }
          ],
          "contour": [
           {
            "colorbar": {
             "outlinewidth": 0,
             "ticks": ""
            },
            "colorscale": [
             [
              0,
              "#0d0887"
             ],
             [
              0.1111111111111111,
              "#46039f"
             ],
             [
              0.2222222222222222,
              "#7201a8"
             ],
             [
              0.3333333333333333,
              "#9c179e"
             ],
             [
              0.4444444444444444,
              "#bd3786"
             ],
             [
              0.5555555555555556,
              "#d8576b"
             ],
             [
              0.6666666666666666,
              "#ed7953"
             ],
             [
              0.7777777777777778,
              "#fb9f3a"
             ],
             [
              0.8888888888888888,
              "#fdca26"
             ],
             [
              1,
              "#f0f921"
             ]
            ],
            "type": "contour"
           }
          ],
          "contourcarpet": [
           {
            "colorbar": {
             "outlinewidth": 0,
             "ticks": ""
            },
            "type": "contourcarpet"
           }
          ],
          "heatmap": [
           {
            "colorbar": {
             "outlinewidth": 0,
             "ticks": ""
            },
            "colorscale": [
             [
              0,
              "#0d0887"
             ],
             [
              0.1111111111111111,
              "#46039f"
             ],
             [
              0.2222222222222222,
              "#7201a8"
             ],
             [
              0.3333333333333333,
              "#9c179e"
             ],
             [
              0.4444444444444444,
              "#bd3786"
             ],
             [
              0.5555555555555556,
              "#d8576b"
             ],
             [
              0.6666666666666666,
              "#ed7953"
             ],
             [
              0.7777777777777778,
              "#fb9f3a"
             ],
             [
              0.8888888888888888,
              "#fdca26"
             ],
             [
              1,
              "#f0f921"
             ]
            ],
            "type": "heatmap"
           }
          ],
          "heatmapgl": [
           {
            "colorbar": {
             "outlinewidth": 0,
             "ticks": ""
            },
            "colorscale": [
             [
              0,
              "#0d0887"
             ],
             [
              0.1111111111111111,
              "#46039f"
             ],
             [
              0.2222222222222222,
              "#7201a8"
             ],
             [
              0.3333333333333333,
              "#9c179e"
             ],
             [
              0.4444444444444444,
              "#bd3786"
             ],
             [
              0.5555555555555556,
              "#d8576b"
             ],
             [
              0.6666666666666666,
              "#ed7953"
             ],
             [
              0.7777777777777778,
              "#fb9f3a"
             ],
             [
              0.8888888888888888,
              "#fdca26"
             ],
             [
              1,
              "#f0f921"
             ]
            ],
            "type": "heatmapgl"
           }
          ],
          "histogram": [
           {
            "marker": {
             "pattern": {
              "fillmode": "overlay",
              "size": 10,
              "solidity": 0.2
             }
            },
            "type": "histogram"
           }
          ],
          "histogram2d": [
           {
            "colorbar": {
             "outlinewidth": 0,
             "ticks": ""
            },
            "colorscale": [
             [
              0,
              "#0d0887"
             ],
             [
              0.1111111111111111,
              "#46039f"
             ],
             [
              0.2222222222222222,
              "#7201a8"
             ],
             [
              0.3333333333333333,
              "#9c179e"
             ],
             [
              0.4444444444444444,
              "#bd3786"
             ],
             [
              0.5555555555555556,
              "#d8576b"
             ],
             [
              0.6666666666666666,
              "#ed7953"
             ],
             [
              0.7777777777777778,
              "#fb9f3a"
             ],
             [
              0.8888888888888888,
              "#fdca26"
             ],
             [
              1,
              "#f0f921"
             ]
            ],
            "type": "histogram2d"
           }
          ],
          "histogram2dcontour": [
           {
            "colorbar": {
             "outlinewidth": 0,
             "ticks": ""
            },
            "colorscale": [
             [
              0,
              "#0d0887"
             ],
             [
              0.1111111111111111,
              "#46039f"
             ],
             [
              0.2222222222222222,
              "#7201a8"
             ],
             [
              0.3333333333333333,
              "#9c179e"
             ],
             [
              0.4444444444444444,
              "#bd3786"
             ],
             [
              0.5555555555555556,
              "#d8576b"
             ],
             [
              0.6666666666666666,
              "#ed7953"
             ],
             [
              0.7777777777777778,
              "#fb9f3a"
             ],
             [
              0.8888888888888888,
              "#fdca26"
             ],
             [
              1,
              "#f0f921"
             ]
            ],
            "type": "histogram2dcontour"
           }
          ],
          "mesh3d": [
           {
            "colorbar": {
             "outlinewidth": 0,
             "ticks": ""
            },
            "type": "mesh3d"
           }
          ],
          "parcoords": [
           {
            "line": {
             "colorbar": {
              "outlinewidth": 0,
              "ticks": ""
             }
            },
            "type": "parcoords"
           }
          ],
          "pie": [
           {
            "automargin": true,
            "type": "pie"
           }
          ],
          "scatter": [
           {
            "fillpattern": {
             "fillmode": "overlay",
             "size": 10,
             "solidity": 0.2
            },
            "type": "scatter"
           }
          ],
          "scatter3d": [
           {
            "line": {
             "colorbar": {
              "outlinewidth": 0,
              "ticks": ""
             }
            },
            "marker": {
             "colorbar": {
              "outlinewidth": 0,
              "ticks": ""
             }
            },
            "type": "scatter3d"
           }
          ],
          "scattercarpet": [
           {
            "marker": {
             "colorbar": {
              "outlinewidth": 0,
              "ticks": ""
             }
            },
            "type": "scattercarpet"
           }
          ],
          "scattergeo": [
           {
            "marker": {
             "colorbar": {
              "outlinewidth": 0,
              "ticks": ""
             }
            },
            "type": "scattergeo"
           }
          ],
          "scattergl": [
           {
            "marker": {
             "colorbar": {
              "outlinewidth": 0,
              "ticks": ""
             }
            },
            "type": "scattergl"
           }
          ],
          "scattermapbox": [
           {
            "marker": {
             "colorbar": {
              "outlinewidth": 0,
              "ticks": ""
             }
            },
            "type": "scattermapbox"
           }
          ],
          "scatterpolar": [
           {
            "marker": {
             "colorbar": {
              "outlinewidth": 0,
              "ticks": ""
             }
            },
            "type": "scatterpolar"
           }
          ],
          "scatterpolargl": [
           {
            "marker": {
             "colorbar": {
              "outlinewidth": 0,
              "ticks": ""
             }
            },
            "type": "scatterpolargl"
           }
          ],
          "scatterternary": [
           {
            "marker": {
             "colorbar": {
              "outlinewidth": 0,
              "ticks": ""
             }
            },
            "type": "scatterternary"
           }
          ],
          "surface": [
           {
            "colorbar": {
             "outlinewidth": 0,
             "ticks": ""
            },
            "colorscale": [
             [
              0,
              "#0d0887"
             ],
             [
              0.1111111111111111,
              "#46039f"
             ],
             [
              0.2222222222222222,
              "#7201a8"
             ],
             [
              0.3333333333333333,
              "#9c179e"
             ],
             [
              0.4444444444444444,
              "#bd3786"
             ],
             [
              0.5555555555555556,
              "#d8576b"
             ],
             [
              0.6666666666666666,
              "#ed7953"
             ],
             [
              0.7777777777777778,
              "#fb9f3a"
             ],
             [
              0.8888888888888888,
              "#fdca26"
             ],
             [
              1,
              "#f0f921"
             ]
            ],
            "type": "surface"
           }
          ],
          "table": [
           {
            "cells": {
             "fill": {
              "color": "#EBF0F8"
             },
             "line": {
              "color": "white"
             }
            },
            "header": {
             "fill": {
              "color": "#C8D4E3"
             },
             "line": {
              "color": "white"
             }
            },
            "type": "table"
           }
          ]
         },
         "layout": {
          "annotationdefaults": {
           "arrowcolor": "#2a3f5f",
           "arrowhead": 0,
           "arrowwidth": 1
          },
          "autotypenumbers": "strict",
          "coloraxis": {
           "colorbar": {
            "outlinewidth": 0,
            "ticks": ""
           }
          },
          "colorscale": {
           "diverging": [
            [
             0,
             "#8e0152"
            ],
            [
             0.1,
             "#c51b7d"
            ],
            [
             0.2,
             "#de77ae"
            ],
            [
             0.3,
             "#f1b6da"
            ],
            [
             0.4,
             "#fde0ef"
            ],
            [
             0.5,
             "#f7f7f7"
            ],
            [
             0.6,
             "#e6f5d0"
            ],
            [
             0.7,
             "#b8e186"
            ],
            [
             0.8,
             "#7fbc41"
            ],
            [
             0.9,
             "#4d9221"
            ],
            [
             1,
             "#276419"
            ]
           ],
           "sequential": [
            [
             0,
             "#0d0887"
            ],
            [
             0.1111111111111111,
             "#46039f"
            ],
            [
             0.2222222222222222,
             "#7201a8"
            ],
            [
             0.3333333333333333,
             "#9c179e"
            ],
            [
             0.4444444444444444,
             "#bd3786"
            ],
            [
             0.5555555555555556,
             "#d8576b"
            ],
            [
             0.6666666666666666,
             "#ed7953"
            ],
            [
             0.7777777777777778,
             "#fb9f3a"
            ],
            [
             0.8888888888888888,
             "#fdca26"
            ],
            [
             1,
             "#f0f921"
            ]
           ],
           "sequentialminus": [
            [
             0,
             "#0d0887"
            ],
            [
             0.1111111111111111,
             "#46039f"
            ],
            [
             0.2222222222222222,
             "#7201a8"
            ],
            [
             0.3333333333333333,
             "#9c179e"
            ],
            [
             0.4444444444444444,
             "#bd3786"
            ],
            [
             0.5555555555555556,
             "#d8576b"
            ],
            [
             0.6666666666666666,
             "#ed7953"
            ],
            [
             0.7777777777777778,
             "#fb9f3a"
            ],
            [
             0.8888888888888888,
             "#fdca26"
            ],
            [
             1,
             "#f0f921"
            ]
           ]
          },
          "colorway": [
           "#636efa",
           "#EF553B",
           "#00cc96",
           "#ab63fa",
           "#FFA15A",
           "#19d3f3",
           "#FF6692",
           "#B6E880",
           "#FF97FF",
           "#FECB52"
          ],
          "font": {
           "color": "#2a3f5f"
          },
          "geo": {
           "bgcolor": "white",
           "lakecolor": "white",
           "landcolor": "#E5ECF6",
           "showlakes": true,
           "showland": true,
           "subunitcolor": "white"
          },
          "hoverlabel": {
           "align": "left"
          },
          "hovermode": "closest",
          "mapbox": {
           "style": "light"
          },
          "paper_bgcolor": "white",
          "plot_bgcolor": "#E5ECF6",
          "polar": {
           "angularaxis": {
            "gridcolor": "white",
            "linecolor": "white",
            "ticks": ""
           },
           "bgcolor": "#E5ECF6",
           "radialaxis": {
            "gridcolor": "white",
            "linecolor": "white",
            "ticks": ""
           }
          },
          "scene": {
           "xaxis": {
            "backgroundcolor": "#E5ECF6",
            "gridcolor": "white",
            "gridwidth": 2,
            "linecolor": "white",
            "showbackground": true,
            "ticks": "",
            "zerolinecolor": "white"
           },
           "yaxis": {
            "backgroundcolor": "#E5ECF6",
            "gridcolor": "white",
            "gridwidth": 2,
            "linecolor": "white",
            "showbackground": true,
            "ticks": "",
            "zerolinecolor": "white"
           },
           "zaxis": {
            "backgroundcolor": "#E5ECF6",
            "gridcolor": "white",
            "gridwidth": 2,
            "linecolor": "white",
            "showbackground": true,
            "ticks": "",
            "zerolinecolor": "white"
           }
          },
          "shapedefaults": {
           "line": {
            "color": "#2a3f5f"
           }
          },
          "ternary": {
           "aaxis": {
            "gridcolor": "white",
            "linecolor": "white",
            "ticks": ""
           },
           "baxis": {
            "gridcolor": "white",
            "linecolor": "white",
            "ticks": ""
           },
           "bgcolor": "#E5ECF6",
           "caxis": {
            "gridcolor": "white",
            "linecolor": "white",
            "ticks": ""
           }
          },
          "title": {
           "x": 0.05
          },
          "xaxis": {
           "automargin": true,
           "gridcolor": "white",
           "linecolor": "white",
           "ticks": "",
           "title": {
            "standoff": 15
           },
           "zerolinecolor": "white",
           "zerolinewidth": 2
          },
          "yaxis": {
           "automargin": true,
           "gridcolor": "white",
           "linecolor": "white",
           "ticks": "",
           "title": {
            "standoff": 15
           },
           "zerolinecolor": "white",
           "zerolinewidth": 2
          }
         }
        },
        "title": {
         "text": "Efficient Frontier ( Optimum sharp = 0.07241)"
        },
        "width": 1200,
        "xaxis": {
         "anchor": "y",
         "domain": [
          0,
          1
         ],
         "title": {
          "text": "Volatility"
         }
        },
        "yaxis": {
         "anchor": "x",
         "domain": [
          0,
          1
         ],
         "title": {
          "text": "Return"
         }
        }
       }
      }
     },
     "metadata": {},
     "output_type": "display_data"
    }
   ],
   "source": [
    "fig = px.scatter(df_frontier_data, x = 'Volatility', y = 'Return', width=1200, height=800, color='Optimum Sharp', title='Efficient Frontier ' + '( Optimum sharp = ' + str(round(max(df_frontier_data['Optimum Sharp']), 5)) + ')')\n",
    "fig.update_layout(margin=dict(l=40, r=40, t=40, b=20), paper_bgcolor=\"LightSteelBlue\")\n",
    "fig.show()"
   ]
  },
  {
   "cell_type": "markdown",
   "metadata": {},
   "source": [
    "### Optimum Sharp Search"
   ]
  },
  {
   "cell_type": "code",
   "execution_count": 23,
   "metadata": {},
   "outputs": [
    {
     "name": "stdout",
     "output_type": "stream",
     "text": [
      "['AAPL', 'ABBV', 'ABT', 'AMAT', 'AMD', 'AMZN', 'ASML', 'BMY', 'CMCSA', 'CNI', 'COST', 'CSX', 'DE', 'EBS', 'EQIX', 'ETN', 'GOOG', 'HD', 'HON', 'INTU', 'ISRG', 'ITW', 'JNJ', 'LIN', 'LLY', 'LOW', 'LRCX', 'LVMUY', 'MDLZ', 'META', 'MSFT', 'NEE', 'NFLX', 'NKE', 'NVDA', 'PANW', 'PFE', 'PYPL', 'QCOM', 'QQQ', 'REGN', 'RTNTF', 'SHOP', 'SNY', 'SONY', 'SPGI', 'SPY', 'TMO', 'TMUS', 'TSLA', 'TSM', 'TXN', 'UBER', 'UL', 'UNH', 'UNP', 'UPS', 'VZ', 'WMT', 'ZTS']\n"
     ]
    }
   ],
   "source": [
    "index_max_sharp = df_frontier_data.index[ df_frontier_data['Optimum Sharp'] == max(df_frontier_data['Optimum Sharp'])].tolist()\n",
    "#data_optimum_sharp = [df_frontier_data['Return'][index_max_sharp[0]], df_frontier_data['Volatility'][index_max_sharp[0]]]\n",
    "frontier_data_sharp = frontier_dict[df_frontier_data['Return'][index_max_sharp[0]]]\n",
    "\n",
    "invested_comp = [comp_tickers[i] for i in range(len(frontier_data_sharp)) if frontier_data_sharp[i] == 1]\n",
    "print(invested_comp)\n"
   ]
  },
  {
   "cell_type": "markdown",
   "metadata": {},
   "source": [
    "### Expectation value of profit predicted by SIMCIM for the next month"
   ]
  },
  {
   "cell_type": "code",
   "execution_count": 24,
   "metadata": {},
   "outputs": [
    {
     "name": "stdout",
     "output_type": "stream",
     "text": [
      "[*********************100%***********************]  60 of 60 completed\n"
     ]
    }
   ],
   "source": [
    "df_profit_matrix_companies_predict = yf.download(['AAPL', 'ABBV', 'ABT', 'AMAT', 'AMD', 'AMZN', 'ASML', 'BMY', 'CMCSA', 'CNI', 'COST', 'CSX', 'DE', 'EBS', 'EQIX', 'ETN', 'GOOG', 'HD', 'HON', 'INTU', 'ISRG', 'ITW', 'JNJ', 'LIN', 'LLY', 'LOW', 'LRCX', 'LVMUY', 'MDLZ', 'META', 'MSFT', 'NEE', 'NFLX', 'NKE', 'NVDA', 'PANW', 'PFE', 'PYPL', 'QCOM', 'QQQ', 'REGN', 'RTNTF', 'SHOP', 'SNY', 'SONY', 'SPGI', 'SPY', 'TMO', 'TMUS', 'TSLA', 'TSM', 'TXN', 'UBER', 'UL', 'UNH', 'UNP', 'UPS', 'VZ', 'WMT', 'ZTS'], start = '2020-12-02', end = '2021-01-01')"
   ]
  },
  {
   "cell_type": "code",
   "execution_count": 27,
   "metadata": {},
   "outputs": [
    {
     "name": "stdout",
     "output_type": "stream",
     "text": [
      "Expected profit 0.145%\n"
     ]
    }
   ],
   "source": [
    "# NORMALISATION DATA PREDICTED\n",
    "df_profit_matrix_companies_norm_predict = np.log(1 + df_profit_matrix_companies_predict['Adj Close'].pct_change())\n",
    "df_profit_matrix_companies_norm_predict = df_profit_matrix_companies_norm_predict[1:]\n",
    "# Expectation value\n",
    "exp_value_predict = np.array(df_profit_matrix_companies_norm_predict.mean())\n",
    "print(f'Expected profit {round(np.mean(exp_value_predict) * 100, 3)}%')"
   ]
  },
  {
   "cell_type": "markdown",
   "metadata": {},
   "source": [
    "### Expectation value of profit calculated by S&M for the next month"
   ]
  },
  {
   "cell_type": "code",
   "execution_count": 26,
   "metadata": {},
   "outputs": [
    {
     "name": "stdout",
     "output_type": "stream",
     "text": [
      "[*********************100%***********************]  116 of 116 completed\n"
     ]
    }
   ],
   "source": [
    "df_profit_matrix_companies_predict_SnM = yf.download(['EQNR', 'ABT', 'AAPL', 'SLB', 'NFLX', 'UL', 'ETN', 'DIS', 'MUFG', 'EVLO', 'AXP', 'DE', 'V', 'PANW', 'AMAT', 'SHOP', 'SNY', 'NEE', 'PFE', 'CB', 'LLY', 'UNH', 'MRK', 'AMD', 'CVX', 'UNP', 'JPM', 'HDB', 'BA', 'SYK', 'T', 'AMZN', 'ADP', 'SONY', 'TSM', 'UBER', 'LRCX', 'BX', 'REGN', 'LIN', 'LVMUY', 'ISRG', 'ZTS', 'INTU', 'ORCL', 'AN', 'INTC', 'ITW', 'BSX', 'GILD', 'BRK-B', 'TMO', 'WFC', 'AMT', 'QCOM', 'MBGYY', 'PYPL', 'VRTX', 'SPGI', 'CSLLY', 'MDLZ', 'MDT', 'CSX', 'PLD', 'GOOG', 'IBM', 'CNI', 'HD', 'HCA', 'CMA', 'BMY', 'XOM', 'PM', 'NVDA', 'EQIX', 'META', 'COP', 'SO', 'VZ', 'TD', 'WMT', 'FI', 'NKE', 'JNJ', 'SBUX', 'CVS', 'MA', 'RTX', 'FMX', 'ASML', 'COST', 'AMGN', 'TMUS', 'TSLA', 'SPY', 'BUD', 'PBR', 'EBS', 'IBN', 'LTMAY', 'LOW', 'PBCRY', 'RY', 'RTNTF', 'HSBC', 'ABBV', 'TXN', 'PEP', 'QQQ', 'SAP', 'LMT', 'CMCSA', 'MSFT', 'HON', 'CI', 'UPS'], start = '2020-12-02', end = '2021-01-01')"
   ]
  },
  {
   "cell_type": "code",
   "execution_count": 29,
   "metadata": {},
   "outputs": [
    {
     "name": "stdout",
     "output_type": "stream",
     "text": [
      "Expected profit 0.179%\n"
     ]
    }
   ],
   "source": [
    "# NORMALISATION DATA PREDICTED by S&M\n",
    "df_profit_matrix_companies_norm_predict_SnM = np.log(1 + df_profit_matrix_companies_predict_SnM['Adj Close'].pct_change())\n",
    "df_profit_matrix_companies_norm_predict_SnM = df_profit_matrix_companies_norm_predict_SnM[1:]\n",
    "# Expectation value\n",
    "exp_value_predict_SnM = np.array(df_profit_matrix_companies_norm_predict_SnM.mean())\n",
    "print(f'Expected profit {round(np.mean(exp_value_predict_SnM) * 100, 3)}%')"
   ]
  }
 ],
 "metadata": {
  "kernelspec": {
   "display_name": "Python 3",
   "language": "python",
   "name": "python3"
  },
  "language_info": {
   "codemirror_mode": {
    "name": "ipython",
    "version": 3
   },
   "file_extension": ".py",
   "mimetype": "text/x-python",
   "name": "python",
   "nbconvert_exporter": "python",
   "pygments_lexer": "ipython3",
   "version": "3.10.7"
  },
  "orig_nbformat": 4
 },
 "nbformat": 4,
 "nbformat_minor": 2
}
